{
 "cells": [
  {
   "cell_type": "markdown",
   "id": "a7983771-b4ac-4ba8-acdb-14127b99dd0d",
   "metadata": {},
   "source": [
    "# Running Marlowe Contracts with the Plutus Application Backend (PAB)\n",
    "\n"
   ]
  },
  {
   "cell_type": "markdown",
   "id": "d39e9d63-9216-499d-8e39-b0f25e4ac872",
   "metadata": {},
   "source": [
    "## Other Lectures\n",
    "\n",
    "*   Overview of Marlowe CLI\n",
    "*   Installing Marlowe CLI and Associated Tools~\n",
    "*   Running Marlowe Contracts without Blockchain Transactions\n",
    "*   Running Marlowe Contacts on the Blockchain\n",
    "*   ~Running Marlowe Contracts with the Plutus Application Backend (PAB)~\n",
    "*   Reference for Marlowe CLI Commands"
   ]
  }
 ],
 "metadata": {
  "kernelspec": {
   "display_name": "Bash - Marlowe",
   "language": "bash",
   "name": "bash_marlowe"
  },
  "language_info": {
   "codemirror_mode": "shell",
   "file_extension": ".sh",
   "mimetype": "text/x-sh",
   "name": "/nix/store/l0wlqpbsvh1pgvhcdhw7qkka3d31si7k-bash-5.1-p8/bin/bash"
  }
 },
 "nbformat": 4,
 "nbformat_minor": 5
}
