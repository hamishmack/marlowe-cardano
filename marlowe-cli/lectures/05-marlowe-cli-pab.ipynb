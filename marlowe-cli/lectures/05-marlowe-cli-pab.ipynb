{
 "cells": [
  {
   "cell_type": "markdown",
   "id": "a7983771-b4ac-4ba8-acdb-14127b99dd0d",
   "metadata": {},
   "source": [
    "# Running Marlowe Contracts with the Plutus Application Backend (PAB)\n",
    "\n",
    "In this lecture we demonstrate how to use `marlowe-cli` to run Marlowe contracts using the Plutus Application Backend (PAB)."
   ]
  },
  {
   "cell_type": "markdown",
   "id": "30f229be-aa78-4c54-9c57-f2a7d207ed78",
   "metadata": {},
   "source": [
    "## Components for Marlowe Deployment\n",
    "\n",
    "*   **Marlowe using the PAB**\n",
    "    *   Cardano node, `cardano-node`, interacts with the Cardano blockchain at large.\n",
    "    *   Cardano wallet, `cardano-wallet`, manages users' wallets.\n",
    "    *   Plutus chain index, `plutus-chain-index`, indexes historical and unspent transactions and Plutus data.\n",
    "    *   Plutus application backend, `marlowe-pab`, constructs Marlowe transactions.\n",
    "*   Marlowe Run\n",
    "    *   Marlowe Run server, `marlowe-dashboard-server`, provides proxies to the wallet, chain index, and PAB.\n",
    "    *   Marlowe Run client, `marlowe-dashboard-client`, serves the user interface.\n",
    "*   Marlowe Playground\n",
    "    *   Marlowe Playground server, `marlowe-playground-server`, provides backend services.\n",
    "    *   Marlowe Playground client, `marlowe-playground-client`, serves the user interface."
   ]
  },
  {
   "cell_type": "markdown",
   "id": "1064a6e5-e008-44ba-bf35-3822ad7806bd",
   "metadata": {},
   "source": [
    "## Marlowe Deployment Using the PAB\n",
    "\n",
    "![Components in a Marlowe PAB deployment.](diagrams/testnet-deployment.svg)"
   ]
  },
  {
   "cell_type": "markdown",
   "id": "69060b9b-02a7-49ce-b840-f2c654dae7bc",
   "metadata": {},
   "source": [
    "## Marlowe's PAB Contracts\n",
    "\n",
    "😕 ***TO BE COMPLETED***"
   ]
  },
  {
   "cell_type": "markdown",
   "id": "80e72ae5-718e-446b-abc8-8995d9fdacad",
   "metadata": {},
   "source": [
    "### Marlowe Application Contract and Endpoints\n",
    "\n",
    "😕 ***TO BE COMPLETED***"
   ]
  },
  {
   "cell_type": "markdown",
   "id": "9e2dce1d-93a3-4c44-8d37-1816c7363376",
   "metadata": {},
   "source": [
    "### Marlowe Follower Contract and Endpoints\n",
    "\n",
    "😕 ***TO BE COMPLETED***"
   ]
  },
  {
   "cell_type": "markdown",
   "id": "94f891fa-2cf6-4efc-ac01-fa1d2c0c5d02",
   "metadata": {},
   "source": [
    "### Wallet Companion Contract"
   ]
  },
  {
   "cell_type": "markdown",
   "id": "a26edf07-3744-4d7a-8a72-44f2f30ef597",
   "metadata": {},
   "source": [
    "## Calling PAB Endpoints with Marlowe CLI\n",
    "\n",
    "😕 ***TO BE COMPLETED***"
   ]
  },
  {
   "cell_type": "markdown",
   "id": "db061aa2-20b0-4b69-9af7-9645fa98f136",
   "metadata": {},
   "source": [
    "## Running a Simple Contract using the PAB\n",
    "\n",
    "😕 ***TO BE COMPLETED***"
   ]
  },
  {
   "cell_type": "markdown",
   "id": "9af6ca22-ce3f-4387-9669-35a244f0bec9",
   "metadata": {},
   "source": [
    "## Querying the On-Chain State and History of a Marlowe Contract\n",
    "\n",
    "😕 ***TO BE COMPLETED***"
   ]
  },
  {
   "cell_type": "markdown",
   "id": "60f38eaa-269f-4ac0-b0da-acdfa08b96e7",
   "metadata": {},
   "source": [
    "## Testing Marlowe Contracts with the PAB\n",
    "\n",
    "😕 ***TO BE COMPLETED***"
   ]
  },
  {
   "cell_type": "markdown",
   "id": "6f7924ff-16a0-4321-a6ff-af3d75e46c18",
   "metadata": {},
   "source": [
    "## Troubleshooting\n",
    "\n",
    "😕 ***TO BE WRITTEN***"
   ]
  },
  {
   "cell_type": "markdown",
   "id": "d39e9d63-9216-499d-8e39-b0f25e4ac872",
   "metadata": {},
   "source": [
    "## Other Lectures\n",
    "\n",
    "*   Overview of Marlowe CLI\n",
    "*   Installing Marlowe CLI and Associated Tools~\n",
    "*   Running Marlowe Contracts without Blockchain Transactions\n",
    "*   Running Marlowe Contacts on the Blockchain\n",
    "*   ~~Running Marlowe Contracts with the Plutus Application Backend (PAB)~~\n",
    "*   Reference for Marlowe CLI Commands"
   ]
  }
 ],
 "metadata": {
  "kernelspec": {
   "display_name": "Bash - Marlowe",
   "language": "bash",
   "name": "bash_marlowe"
  },
  "language_info": {
   "codemirror_mode": "shell",
   "file_extension": ".sh",
   "mimetype": "text/x-sh",
   "name": "/nix/store/l0wlqpbsvh1pgvhcdhw7qkka3d31si7k-bash-5.1-p8/bin/bash"
  }
 },
 "nbformat": 4,
 "nbformat_minor": 5
}
