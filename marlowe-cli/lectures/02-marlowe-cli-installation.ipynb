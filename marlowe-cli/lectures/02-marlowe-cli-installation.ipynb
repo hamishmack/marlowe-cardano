{
 "cells": [
  {
   "cell_type": "markdown",
   "id": "1e664cfd-0a31-4c11-9d3e-81c544774fa4",
   "metadata": {
    "tags": []
   },
   "source": [
    "# Installing Marlowe CLI and Associated Tools\n",
    "\n",
    "This lecture describes how to install `marlowe-cli` and the other tools needed to run Marlowe contracts."
   ]
  },
  {
   "cell_type": "markdown",
   "id": "c1875a93-e87d-4b6a-b67c-0a95f902a827",
   "metadata": {},
   "source": [
    "## Cloning the Git Repository for Marlowe\n",
    "\n",
    "The Marlowe repository for Cardano is located at <<https://github.com/input-output-hk/marlowe-cardano.git>>.\n",
    "*   This repository contains the Marlowe source code, documentation, examples, and test cases.\n",
    "*   The repository is needed if you want to use Marlowe from a Nix shell.\n",
    "*   It is convenient, but not strictly required, if you install Marlowe tools from the Marlowe Pioneers Daedalus installation.\n",
    "\n",
    "The following `git` command will copy the repository onto your machine."
   ]
  },
  {
   "cell_type": "code",
   "execution_count": 1,
   "id": "40d48cb2-5e71-4fc9-8f30-01cbad682f55",
   "metadata": {
    "tags": []
   },
   "outputs": [
    {
     "name": "stdout",
     "output_type": "stream",
     "text": [
      "Cloning into 'marlowe-cardano'...\n",
      "remote: Enumerating objects: 127773, done.\u001b[K\n",
      "remote: Counting objects: 100% (546/546), done.\u001b[K\n",
      "remote: Compressing objects: 100% (299/299), done.\u001b[K\n",
      "remote: Total 127773 (delta 251), reused 513 (delta 234), pack-reused 127227\u001b[K\n",
      "Receiving objects: 100% (127773/127773), 118.65 MiB | 33.29 MiB/s, done.\n",
      "Resolving deltas: 100% (81755/81755), done.\n"
     ]
    }
   ],
   "source": [
    "git clone git@github.com:input-output-hk/marlowe-cardano.git -b mpp-cli-lectures"
   ]
  },
  {
   "cell_type": "markdown",
   "id": "39924e4d-2a2c-4eaf-898f-0bca1b35e025",
   "metadata": {},
   "source": [
    "## Installing and Running Marlowe CLI\n",
    "\n",
    "The Marlowe CLI tool is written in the Haskell language. Here are four methods for installing `marlowe-cli`, listed in order of increasing difficulty.\n",
    "1.  *Via Daedalus:* A copy of `marlowe-cli` is provided with the Daedalus wallet for Marlowe Pioneers.\n",
    "2.  *Via Nix Shell:* This requires running either NixOs or the Nix package manager. See <<https://nixos.org/>>.\n",
    "3.  *Via Nix:* This also requires NixOs or the Nix package manager.\n",
    "4.  *Via Cabal:* This requires installing the Haskell tookchain. See <<https://www.haskell.org/downloads/>>.\n",
    "\n",
    "In this lecture, we only discuss the first and second installation methods. The Marlowe documentation at <<https://github.com/input-output-hk/marlowe-cardano/blob/main/README.adoc>> provides instructions for the third and fourth installation methods.\n",
    "\n",
    "👉 Installation assistance is available on the Marlowe Discord channel <<https://discord.com/channels/826816523368005654/936295815926927390/936316494042779698>>."
   ]
  },
  {
   "cell_type": "markdown",
   "id": "5eca6031-f2e6-47d8-bcea-a3798e618a26",
   "metadata": {},
   "source": [
    "## Installation via Daedalus"
   ]
  },
  {
   "cell_type": "markdown",
   "id": "e01c070a-000a-406a-ae3a-10010453c9dc",
   "metadata": {},
   "source": [
    "***TO BE WRITTEN***\n",
    "\n",
    "*   marlowe-cli\n",
    "*   cardano-cli\n",
    "*   cardano-wallet\n",
    "*   cardano-node\n",
    "*   CARDANO_NODE_SOCKET_PATH"
   ]
  },
  {
   "cell_type": "markdown",
   "id": "02a684b7-9de9-4489-89a1-66b4dfe7c6c3",
   "metadata": {},
   "source": [
    "👉 Installation assistance is available on the Marlowe Discord channel <<https://discord.com/channels/826816523368005654/936295815926927390/936316494042779698>>."
   ]
  },
  {
   "cell_type": "markdown",
   "id": "57969c08-b513-4049-bc90-109c356e1272",
   "metadata": {},
   "source": [
    "## Installation via the Nix Shell\n",
    "\n",
    "NixOS and the Nix package manager are available at <<https://nixos.org/>>.\n",
    " \n",
    "👉 See <<https://github.com/input-output-hk/marlowe-cardano/blob/main/README.adoc#how-to-set-up-the-iohk-binary-caches>> on how to set up binary caches for the Nix build. This will greatly speed the build process.\n",
    "\n",
    "Once the binary caches have been set up, simply enter a nix shell."
   ]
  },
  {
   "cell_type": "code",
   "execution_count": 5,
   "id": "59f075ec-6304-4ca3-a9aa-2dd3cbacbbd0",
   "metadata": {},
   "outputs": [],
   "source": [
    "nix-shell marlowe-cardano/shell.nix"
   ]
  },
  {
   "cell_type": "markdown",
   "id": "e8267ce7-61bb-4045-8e78-dc4eca55cb65",
   "metadata": {},
   "source": [
    "The `marlowe-cli` and the other required executable programs are all available within that shell."
   ]
  },
  {
   "cell_type": "code",
   "execution_count": 5,
   "id": "d562e1d2-2f60-4c70-bd29-91a28647cab9",
   "metadata": {},
   "outputs": [
    {
     "name": "stdout",
     "output_type": "stream",
     "text": [
      "marlowe-cli 0.0.3.1 @ \n"
     ]
    }
   ],
   "source": [
    "marlowe-cli --version"
   ]
  },
  {
   "cell_type": "code",
   "execution_count": 6,
   "id": "15d2f058-437b-4d12-9f7d-cd145d85d1e9",
   "metadata": {},
   "outputs": [
    {
     "name": "stdout",
     "output_type": "stream",
     "text": [
      "cardano-cli 1.34.0 - linux-x86_64 - ghc-8.10\n",
      "git rev 0000000000000000000000000000000000000000\n"
     ]
    }
   ],
   "source": [
    "cardano-cli --version"
   ]
  },
  {
   "cell_type": "code",
   "execution_count": 7,
   "id": "3c7ba431-fbb2-4bb8-9ff9-9b41b1dccec0",
   "metadata": {},
   "outputs": [
    {
     "name": "stdout",
     "output_type": "stream",
     "text": [
      "v2022-01-18 (git revision: 9d5ab5ea5e51b4fab7e77cd1af6bc00822fe9d77)\n"
     ]
    }
   ],
   "source": [
    "cardano-wallet version"
   ]
  },
  {
   "cell_type": "code",
   "execution_count": 8,
   "id": "a176fb57-cefe-41c5-926a-37a2869813e2",
   "metadata": {},
   "outputs": [
    {
     "name": "stdout",
     "output_type": "stream",
     "text": [
      "cardano-node 1.34.1 - linux-x86_64 - ghc-8.10\n",
      "git rev 0000000000000000000000000000000000000000\n"
     ]
    }
   ],
   "source": [
    "cardano-node --version"
   ]
  },
  {
   "cell_type": "markdown",
   "id": "3d40c72d-5b0d-4764-8a3e-19aabc746e37",
   "metadata": {},
   "source": [
    "👉 Installation assistance is available on the Marlowe Discord channel <<https://discord.com/channels/826816523368005654/936295815926927390/936316494042779698>>."
   ]
  },
  {
   "cell_type": "markdown",
   "id": "05fd83ec-226d-4190-96d6-59b875bd3278",
   "metadata": {},
   "source": [
    "## Creating Payment and Signing Keys\n",
    "\n",
    "***TO BE WRITTEN***"
   ]
  },
  {
   "cell_type": "markdown",
   "id": "f4ed8e37-008e-403d-8716-05928ec97f72",
   "metadata": {},
   "source": [
    "## Starting the Cardano Node\n",
    "\n",
    "***TO BE WRITTEN***"
   ]
  },
  {
   "cell_type": "markdown",
   "id": "7bc5a75f-7814-49f8-9b3f-436171d89156",
   "metadata": {},
   "source": [
    "## Other Lectures\n",
    "\n",
    "*   Overview of Marlowe CLI\n",
    "*   ~Installing Marlowe CLI and Associated Tools~\n",
    "*   Running Marlowe Contracts without Blockchain Transactions\n",
    "*   Running Marlowe Contacts on the Blockchain\n",
    "*   Running Marlowe Contracts with the Plutus Application Backend (PAB)\n",
    "*   Reference for Marlowe CLI Commands"
   ]
  }
 ],
 "metadata": {
  "kernelspec": {
   "display_name": "Bash - Marlowe",
   "language": "bash",
   "name": "bash_marlowe"
  },
  "language_info": {
   "codemirror_mode": "shell",
   "file_extension": ".sh",
   "mimetype": "text/x-sh",
   "name": "/nix/store/l0wlqpbsvh1pgvhcdhw7qkka3d31si7k-bash-5.1-p8/bin/bash"
  }
 },
 "nbformat": 4,
 "nbformat_minor": 5
}
