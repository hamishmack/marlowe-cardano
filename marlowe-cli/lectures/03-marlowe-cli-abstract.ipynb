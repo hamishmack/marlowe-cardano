{
 "cells": [
  {
   "cell_type": "markdown",
   "id": "1e664cfd-0a31-4c11-9d3e-81c544774fa4",
   "metadata": {},
   "source": [
    "# Running Marlowe Contracts without Blockchain Transactions\n",
    "\n",
    "This lecture provides an overview of the low and high levels at which one can create and interact with Marlowe contracts on the blockchain using the Marlowe CLI tool, and how that relates to using Marlowe Run or the Marlowe Playground's simulator. It introduces the `marlowe-cli` tool and includes instructions for installing and using it. Subsequent lectures focus on particular levels of interaction with Marlowe contract using `marlowe-cli`."
   ]
  },
  {
   "cell_type": "markdown",
   "id": "af7a99d5-c4bf-43d8-9ec1-84c5e29f1338",
   "metadata": {},
   "source": [
    "## Escrow Contract\n",
    "\n",
    "*   A buyer wishes to purchase an item.\n",
    "*   They deposit funds.\n",
    "*   After they deposit funds they may report a problem with the purchase.\n",
    "*   If they don’t report a problem, then the funds are released to the seller.\n",
    "*   If they do report a problem, the seller may agree that there is a problem (in which case the buyer receives a refund) or they may dispute that there is a problem.\n",
    "*   If the seller disputes the problem, then a mediator decides who receives the funds.\n",
    "*   The contract has logic to handle situations where a party fails to act in a timely manner."
   ]
  },
  {
   "cell_type": "markdown",
   "id": "3e357d4b-b909-4a4b-93f7-8935d052813b",
   "metadata": {},
   "source": [
    "### Flow Chart for Escrow Example\n",
    "\n",
    "![Execution paths through the escrow example contract.](diagrams/escrow-flow.png)"
   ]
  },
  {
   "cell_type": "markdown",
   "id": "f8a2996a-52b5-4fb5-8142-ba321f0ca842",
   "metadata": {},
   "source": [
    "### Escrow Example in Marlowe Format\n",
    "\n",
    "```haskell\n",
    "When\n",
    "  [\n",
    "    Case (Deposit (Role \"Francis Beaumont (the seller)\") (Role \"Thomas Middleton (the buyer)\") ada 256)\n",
    "      ( When\n",
    "        [\n",
    "          Case (Choice (ChoiceId \"Everything is alright\" (Role \"Thomas Middleton (the buyer)\")) [Bound 0 0])\n",
    "            Close\n",
    "        , Case (Choice (ChoiceId \"Report problem\" (Role \"Thomas Middleton (the buyer)\")) [Bound 1 1])\n",
    "            ( Pay (Role \"Francis Beaumont (the seller)\") (Account (Role \"Thomas Middleton (the buyer)\")) ada 256 )\n",
    "            ( When\n",
    "              [\n",
    "                Case (Choice (ChoiceId \"Confirm problem\" (Role \"Francis Beaumont (the seller)\")) [Bound 1 1])\n",
    "                  Close\n",
    "              , Case (Choice (ChoiceId \"Dispute problem\" (Role \"Francis Beaumont (the seller)\")) [Bound 0 0])\n",
    "                ( When\n",
    "                  [\n",
    "                    Case (Choice (ChoiceId \"Dismiss claim\" (Role \"Christopher Marlowe (the mediator)\")) [Bound 0 0])\n",
    "                      ( Pay (Role \"Thomas Middleton (the buyer)\") (Account (Role \"Francis Beaumont (the seller)\")) ada 256 )\n",
    "                      Close\n",
    "                  , Case (Choice (ChoiceId \"Confirm claim\" (Role \"Christopher Marlowe (the mediator)\")) [Bound 1 1])\n",
    "                      Close\n",
    "                  ]\n",
    "                  (SlotParam \"Mediation deadline\")\n",
    "                  Close\n",
    "                )\n",
    "              ]\n",
    "              (SlotParam \"Dispute deadline\")\n",
    "            ) Close\n",
    "        ]\n",
    "        (SlotParam \"Complaint deadline\")\n",
    "        Close\n",
    "      )\n",
    "  ]\n",
    "  (SlotParam \"Payment deadline\")\n",
    "  Close\n",
    "```"
   ]
  },
  {
   "cell_type": "markdown",
   "id": "e90bb06b-77ed-4fde-b729-fbbc100533e3",
   "metadata": {},
   "source": [
    "### Escrow Example in Blockly\n",
    "\n",
    "![Blockly representation of escrow example contract, split into three columns.](diagrams/escrow-blockly.png)"
   ]
  },
  {
   "cell_type": "markdown",
   "id": "f47388a9-9fb5-40ac-a78d-d4300133ae50",
   "metadata": {},
   "source": [
    "### Four of the Eight Pathways through the Escrow Contract\n",
    "\n",
    "![Four possible executions of the escrow contract.](diagrams/escrow-paths.png)"
   ]
  },
  {
   "cell_type": "markdown",
   "id": "b97ea3fc-9747-4fb8-a729-6a9901d29ccd",
   "metadata": {},
   "source": [
    "## Scenario\n",
    "\n",
    "![Overview of escrow example.](diagrams/escrow-detailed-setup.png)"
   ]
  },
  {
   "cell_type": "markdown",
   "id": "74869494-63ec-40ec-961c-d103297693e0",
   "metadata": {},
   "source": [
    "## Select the Parameters for the Contract\n",
    "\n",
    "First use some environment variables to store some values"
   ]
  },
  {
   "cell_type": "code",
   "execution_count": 7,
   "id": "d992d571-1086-4180-9e62-973ac6e4bceb",
   "metadata": {},
   "outputs": [],
   "source": [
    "INITIAL_LOVELACE=3000000             # The creation transaction will deposit 3₳.\n",
    "PRICE=50000000                       # The prices of the item is 50₳.\n",
    "\n",
    "SELLER_ROLE=FB                       # Francis Beaumont (FB) is the seller.\n",
    "BUYER_ROLE=TM                        # Thomas Middleton is the buyer.\n",
    "MEDIATOR_ROLE=CM                     # Christopher Marlowe is the mediator.\n",
    "\n",
    "NOW=$(($(date -u +%s)*1000))         # The current time in POSIX milliseconds.\n",
    "HOUR=$((60*60*1000))                 # One hour, in POSIX milliseconds.\n",
    "PAYMENT_DEADLINE=$((NOW+10*HOUR))    # The payment deadline, ten hours from now.\n",
    "COMPLAINT_DEADLINE=$((NOW+12*HOUR))  # The complaint deadline, twelve hours from now.\n",
    "DISPUTE_DEADLINE=$((NOW+14*HOUR))    # The dispute deadline, fourteen hours from now.\n",
    "MEDIATION_DEADLINE=$((NOW+16*HOUR))  # The mediation deadline, sixteen hours from now."
   ]
  },
  {
   "cell_type": "markdown",
   "id": "89c92546-24c3-44bb-8fde-cf2af480a6b9",
   "metadata": {},
   "source": [
    "## Create the Contract and Its Initial State\n",
    "\n",
    "Now create the contract:\n",
    "*   The contract is stored in the JSON file *tx-1.contract*.\n",
    "*   The initial state is stored in the JSON file *tx-1.state*."
   ]
  },
  {
   "cell_type": "code",
   "execution_count": 9,
   "id": "8dd1e78b-3640-41c6-8ec4-a803142e8b5e",
   "metadata": {},
   "outputs": [],
   "source": [
    "marlowe-cli template escrow --minimum-ada \"$INITIAL_LOVELACE\"          \\\n",
    "                            --price \"$PRICE\"                           \\\n",
    "                            --seller \"Role=$SELLER_ROLE\"               \\\n",
    "                            --buyer \"Role=$BUYER_ROLE\"                 \\\n",
    "                            --mediator \"Role=$MEDIATOR_ROLE\"           \\\n",
    "                            --payment-deadline \"$PAYMENT_DEADLINE\"     \\\n",
    "                            --complaint-deadline \"$COMPLAINT_DEADLINE\" \\\n",
    "                            --dispute-deadline \"$DISPUTE_DEADLINE\"     \\\n",
    "                            --mediation-deadline \"$MEDIATION_DEADLINE\" \\\n",
    "                            --out-contract-file tx-1.contract          \\\n",
    "                            --out-state-file    tx-1.state\n"
   ]
  },
  {
   "cell_type": "markdown",
   "id": "f7d08878-5fd3-4eb9-9e5a-38dabce49b01",
   "metadata": {},
   "source": [
    "## Other Lectures\n",
    "\n",
    "*   Overview of Marlowe CLI\n",
    "*   Installing Marlowe CLI and Associated Tools\n",
    "*   ~Running Marlowe Contracts without Blockchain Transactions~\n",
    "*   Running Marlowe Contacts on the Blockchain\n",
    "*   Running Marlowe Contracts with the Plutus Application Backend (PAB)\n",
    "*   Reference for Marlowe CLI Commands"
   ]
  }
 ],
 "metadata": {
  "kernelspec": {
   "display_name": "Bash - Marlowe",
   "language": "bash",
   "name": "bash_marlowe"
  },
  "language_info": {
   "codemirror_mode": "shell",
   "file_extension": ".sh",
   "mimetype": "text/x-sh",
   "name": "/nix/store/l0wlqpbsvh1pgvhcdhw7qkka3d31si7k-bash-5.1-p8/bin/bash"
  }
 },
 "nbformat": 4,
 "nbformat_minor": 5
}
